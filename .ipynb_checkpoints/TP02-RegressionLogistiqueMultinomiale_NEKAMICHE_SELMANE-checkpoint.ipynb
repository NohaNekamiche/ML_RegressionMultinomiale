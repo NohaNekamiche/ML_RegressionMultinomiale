{
 "cells": [
  {
   "cell_type": "markdown",
   "metadata": {},
   "source": [
    "# TP 02 : Régression logistique Multinomiale\n",
    "\n",
    "Binômes : \n",
    "- NOHA NEKAMICHE\n",
    "- LAMIA SELMANE\n",
    "\n",
    "\n",
    "**INTRODUCTION**\n",
    "\n",
    "Nous avons implémenté le cas d'une seule classe (binaire : oui ou non). Pour appliquer un classement sur plusieurs classes, on peut entrainner $L$ modèles de régression logistique (où $L$ est le nombre des classes). Dans ce cas, nos résultats (Y) doivent encodée en 0 et 1. Pour un modèle $M_i$ d'une classe $C_i$, la sortie $Y$ doit avoir 1 si $C_i$, 0 si une autre classe. (One-to-rest classification)\n",
    "\n",
    "Une autre approche (celle qu'on va implémenter) est d'encoder la sortie en utilisant OneHot encoder. Pour $L$ classes et un échantillon donnée, on va avoir $L$ sorties (une ayant 1 et les autres 0). Pour un dataset avec $M$ échantillons, $N$ caractéristiques et $L$ classes, on va avoir les dimensions suivantes : \n",
    "- $X [M, N]$\n",
    "- $Y [M, L]$\n",
    "- $\\theta [N, L]$\n",
    "\n",
    "Cette dernière approche s'appelle maximum entropy (MaxEnt). Elle généralise la régresion logistique."
   ]
  },
  {
   "cell_type": "code",
   "execution_count": 1,
   "metadata": {},
   "outputs": [],
   "source": [
    "import numpy as np\n",
    "import pandas as pd \n",
    "import matplotlib.pyplot as plt \n",
    "import outils\n",
    "%matplotlib inline\n"
   ]
  },
  {
   "cell_type": "markdown",
   "metadata": {},
   "source": [
    "## I. Réalisation des algorithmes\n",
    "\n",
    "Cette partie sert à améliorer la compréhension les algorithmes d'apprentissage automatique vus en cours en les implémentant à partir de zéro. \n",
    "Pour ce faire, on va utiliser la bibliothèque **numpy** qui est utile dans les calcules surtout matricielles.\n",
    "\n",
    "### I.1. Combinaison linéaire\n",
    "\n",
    "On combine les $N$  caractéristiques linéairement comme dans la régression linéaire binaire. \n",
    "La seule différence est que nous avons plus de classes, donc le nombre des paramètres va être multiplié par le nombre des classes.\n",
    "La somme pondérée d'une classe $c$ est calculée selon la formule : \n",
    "\n",
    "$$Z_c = zfn_c(X, \\theta) = \\sum\\limits_{j=0}^{N} \\theta_{(c, j)} X_j | X_0 = 1 $$\n",
    "\n",
    "La forme matricielle de $Z$ sera : \n",
    "$$Z = zfn(X, \\theta) = X \\cdot \\theta$$\n",
    "\n",
    "- $X[M, N]$ : une matrice de M lignes (échantillons) et N colonnes (caractéristiques, y compris le biais).  \n",
    "- $\\theta[N, L]$ : une matrice de N lignes (caractéristiques, y compris le biais) et L colonnes (classes). \n",
    "- $Z[M, L]$ : une matrice de M lignes (échantillons) et L colonnes (classes)."
   ]
  },
  {
   "cell_type": "code",
   "execution_count": 2,
   "metadata": {},
   "outputs": [
    {
     "data": {
      "text/plain": [
       "array([[0. , 0. , 0. ],\n",
       "       [0.5, 0.1, 0.6],\n",
       "       [0.2, 0.3, 0. ],\n",
       "       [0.7, 0.4, 0.6]])"
      ]
     },
     "execution_count": 2,
     "metadata": {},
     "output_type": "execute_result"
    }
   ],
   "source": [
    "# TODO implémenter la fonction de combinaison linéaire \n",
    "def zfn(X, Theta): \n",
    "    return np.dot(X,Theta)\n",
    "\n",
    "#=====================================================================\n",
    "# TEST UNITAIRE\n",
    "#=====================================================================\n",
    "# Resultat : \n",
    "# array([[0. , 0. , 0. ],\n",
    "#        [0.5, 0.1, 0.6],\n",
    "#        [0.2, 0.3, 0. ],\n",
    "#        [0.7, 0.4, 0.6]])\n",
    "#---------------------------------------------------------------------\n",
    "\n",
    "X_tn = np.array([[0., 0.], \n",
    "                 [1., 0.], \n",
    "                 [0., 1.], \n",
    "                 [1., 1.]]) # 4 échntillons, 2 caractéristiques\n",
    "Theta_tn = np.array([[0.5, 0.1, 0.6],\n",
    "                     [0.2, 0.3, 0.0]]) # 2 caractéristiques, 3 classes\n",
    "zfn(X_tn, Theta_tn)"
   ]
  },
  {
   "cell_type": "markdown",
   "metadata": {},
   "source": [
    "### I.2. Calcul des probabilités\n",
    "\n",
    "Les valeurs combinées sont transformées à des probabilités en utilisant la fonction softmax. \n",
    "La fonction softmax nous assure que la somme des probabilités des classes égale à 1.\n",
    "Cette fonction prend les combinaisons linéaires $Z[M, L]$ et calcule les probabilités $P[M, L] comme suite : \n",
    "\n",
    "$$softmax(Z)=\\frac{e^Z}{\\sum\\limits_{k=1}^{L} e^{Z_k}}$$\n",
    "\n",
    "- $M$ nombre des échantillons\n",
    "- $N$ nombre des caractéristiques\n",
    "- $L$ nombre des classes\n",
    "- La somme des probabilités de chaque ligne doit être 1"
   ]
  },
  {
   "cell_type": "code",
   "execution_count": 3,
   "metadata": {},
   "outputs": [
    {
     "data": {
      "text/plain": [
       "[array([0.33333333, 0.33333333, 0.33333333]),\n",
       " array([0.36029662, 0.24151404, 0.39818934]),\n",
       " array([0.34200877, 0.37797814, 0.28001309]),\n",
       " array([0.37797814, 0.28001309, 0.34200877])]"
      ]
     },
     "execution_count": 3,
     "metadata": {},
     "output_type": "execute_result"
    }
   ],
   "source": [
    "# TODO compléter la fonction softmax\n",
    "def softmax(Z):\n",
    "    exp_z=np.exp(Z)\n",
    "    \n",
    "    v=[np.sum(exp_z[i]) for i in range(len(exp_z))]\n",
    "    \n",
    "    return [exp_z[i]/v[i] for i in range(len(v))]\n",
    "\n",
    "#=====================================================================\n",
    "# TEST UNITAIRE\n",
    "#=====================================================================\n",
    "# Resultat : \n",
    "# array([[0.33333333, 0.33333333, 0.33333333],\n",
    "#       [0.36029662, 0.24151404, 0.39818934],\n",
    "#       [0.34200877, 0.37797814, 0.28001309],\n",
    "#       [0.37797814, 0.28001309, 0.34200877]])\n",
    "#---------------------------------------------------------------------\n",
    "Z_tn = np.array([[0. , 0. , 0. ],\n",
    "                 [0.5, 0.1, 0.6],\n",
    "                 [0.2, 0.3, 0. ],\n",
    "                 [0.7, 0.4, 0.6]])\n",
    "softmax(Z_tn)"
   ]
  },
  {
   "cell_type": "markdown",
   "metadata": {},
   "source": [
    "### I.3. Prédiction \n",
    "\n",
    "Etant donnée les probabilités des classes pour chaque échantillon, on doit choisir la classe avec le max de probabilité.\n",
    "\n",
    "$$\n",
    "\\hat{C}^{(i)}_j = \\begin{cases}\n",
    "1 & si & H^{(i)}_j \\ge \\max P^{(i)} \\\\\n",
    "0 & sinon & \\\\\n",
    "\\end{cases}\n",
    "$$\n",
    "\n",
    "- $H[M, L]$ probabilités où chaque ligne est yn échantillon et chaque collone est une classe\n",
    "- $\\hat{C}[M, L]$ prédictions où chaque ligne est yn échantillon et chaque collone est une classe. $\\hat{C}^{(i)}_j \\in \\{0, 1\\}$"
   ]
  },
  {
   "cell_type": "code",
   "execution_count": 4,
   "metadata": {},
   "outputs": [
    {
     "data": {
      "text/plain": [
       "array([[1., 1., 1.],\n",
       "       [0., 0., 1.],\n",
       "       [0., 1., 0.],\n",
       "       [1., 0., 0.]])"
      ]
     },
     "execution_count": 4,
     "metadata": {},
     "output_type": "execute_result"
    }
   ],
   "source": [
    "# TODO compléter la fonction de prédiction \n",
    "# Elle doit calculer la \n",
    "# H est un vecteur de probabilités \n",
    "def cn(H): \n",
    "      \n",
    "    res=np.zeros(np.shape(H))\n",
    "    for i_line,line in enumerate(H) :\n",
    "        for i_col,col in enumerate(line):\n",
    "            if(col >=np.max(line)):\n",
    "                res[i_line,i_col]=1\n",
    "\n",
    "\n",
    "    return res\n",
    "\n",
    "#=====================================================================\n",
    "# TEST UNITAIRE\n",
    "#=====================================================================\n",
    "# Resultat : \n",
    "# array([[1, 1, 1],\n",
    "#        [0, 0, 1],\n",
    "#        [0, 1, 0],\n",
    "#        [1, 0, 0]])\n",
    "#---------------------------------------------------------------------\n",
    "\n",
    "H_tn = np.array([[0.33333333, 0.33333333, 0.33333333],\n",
    "             [0.36029662, 0.24151404, 0.39818934],\n",
    "             [0.34200877, 0.37797814, 0.28001309],\n",
    "             [0.37797814, 0.28001309, 0.34200877]])\n",
    "cn(H_tn)"
   ]
  },
  {
   "cell_type": "markdown",
   "metadata": {},
   "source": [
    "### I.4. Calcul du coût \n",
    "\n",
    "On réfère aux probabilités trouvées par la fonction softmax comme $H$, où $H_c$ est la probabilité d'une classe $c$.\n",
    "Etant donné un échantillon $X^{(i)}$, son coût est calculé comme : \n",
    "\n",
    "$$ cout(H^{(i)}, Y^{(i)}) = - \\sum\\limits_{c=1}^{L} Y^{(i)}_c \\log(H^{(i)}_c)$$\n",
    "\n",
    "Le coût total est la moyenne des coût de tous les échantillons\n",
    "\n",
    "$$J(H, Y) = \\frac{1}{M} \\sum\\limits_{i=1}^{M} cout(H^{(i)}, Y^{(i)})$$\n",
    "\n",
    "- $H[M, L]$ : les probabilités estimées de chaque échantillon (M) de chaque classe (L)\n",
    "- $Y[M, L]$ : les probabilités réelles (1 ou 0) de chaque échantillon (M) de chaque classe (L)"
   ]
  },
  {
   "cell_type": "code",
   "execution_count": 5,
   "metadata": {},
   "outputs": [
    {
     "data": {
      "text/plain": [
       "1.1913194530574498"
      ]
     },
     "execution_count": 5,
     "metadata": {},
     "output_type": "execute_result"
    }
   ],
   "source": [
    "# TODO compléter la fonction du coût multinomial\n",
    "def jn(H, Y):\n",
    "   \n",
    "    #cout=-np.sum(np.dot(np.log(H),Y.reshape(3,4)))\n",
    "    cout=-np.sum(Y*np.log(H))\n",
    "    return np.sum(cout)/Y.shape[0]\n",
    "   \n",
    "\n",
    "#=====================================================================\n",
    "# TEST UNITAIRE\n",
    "#=====================================================================\n",
    "# Resultat : 1.1913194530574498\n",
    "#---------------------------------------------------------------------\n",
    "\n",
    "H_tn = np.array([[0.33333333, 0.33333333, 0.33333333],\n",
    "                 [0.36029662, 0.24151404, 0.39818934],\n",
    "                 [0.34200877, 0.37797814, 0.28001309],\n",
    "                 [0.37797814, 0.28001309, 0.34200877]])\n",
    "Y_tn = np.array([[1,0,0], [0,1,0], [0,0,1], [1,0,0]])\n",
    "\n",
    "jn(H_tn, Y_tn)"
   ]
  },
  {
   "cell_type": "markdown",
   "metadata": {},
   "source": [
    "### I.5. Calcul des gradients\n",
    "\n",
    "La taille des gradients est la même que celle des paramètres $\\theta[N, L]$. \n",
    "\n",
    "$$\\frac{\\partial J}{\\theta_j} = \\frac{1}{M} \\sum\\limits_{i=1}^{M} (H^{(i)} - Y^{(i)}) X^{(i)}_{j} $$\n",
    "\n",
    "Sa forme matricielle sera \n",
    "$$\\frac{\\partial J}{\\theta_j} = \\frac{1}{M} X^\\top \\cdot (H-Y) $$\n",
    "\n",
    "- $X[M, N]$ : une matrice de M lignes (échantillons) et N colonnes (caractéristiques, y compris le biais).  \n",
    "- $H[M, L]$ : les probabilités estimées de chaque échantillon (M) de chaque classe (L)\n",
    "- $Y[M, L]$ : les probabilités réelles (1 ou 0) de chaque échantillon (M) de chaque classe (L)\n",
    "- $\\frac{\\partial J}{\\theta}[N, L]$ : une matrice de L lignes (classes) et N colonnes (caractéristiques, y compris le biais). "
   ]
  },
  {
   "cell_type": "code",
   "execution_count": 6,
   "metadata": {},
   "outputs": [
    {
     "data": {
      "text/plain": [
       "array([[-0.06543131, -0.11961822,  0.18504953],\n",
       "       [-0.07000327,  0.16449781, -0.09449454]])"
      ]
     },
     "execution_count": 6,
     "metadata": {},
     "output_type": "execute_result"
    }
   ],
   "source": [
    "# TODO compléter la fonction du gradient multinomial\n",
    "def dJn(X, H, Y):\n",
    "    return np.dot(np.transpose(X),np.subtract(H,Y))/X.shape[0]\n",
    "\n",
    "#=====================================================================\n",
    "# TEST UNITAIRE\n",
    "#=====================================================================\n",
    "# Resultat : \n",
    "# array([[-0.06543131, -0.11961822,  0.18504953],\n",
    "#        [-0.07000327,  0.16449781, -0.09449454]])\n",
    "#---------------------------------------------------------------------\n",
    "X_tn = np.array([[0., 0.], \n",
    "                 [1., 0.],\n",
    "                 [0., 1.],\n",
    "                 [1., 1.]])\n",
    "H_tn = np.array([[0.33333333, 0.33333333, 0.33333333],\n",
    "                 [0.36029662, 0.24151404, 0.39818934],\n",
    "                 [0.34200877, 0.37797814, 0.28001309],\n",
    "                 [0.37797814, 0.28001309, 0.34200877]])\n",
    "Y_tn = np.array([[1,0,0], [0,1,0], [0,0,1], [1,0,0]])\n",
    "\n",
    "dJn(X_tn, H_tn, Y_tn)"
   ]
  },
  {
   "cell_type": "markdown",
   "metadata": {},
   "source": [
    "### I.6. Descente du gradient adaptative\n",
    "\n",
    "Les coéfficients sont mis à jour itérativement en se basant sur le gradient et un taux d'apprentissage $\\alpha$ comme dans la descente des gradients normale. La différence est que dans **AdaGrad**, on adapte le taux d'apprentissage de chaque paramètre $\\theta$ selon l'historique des gradients.\n",
    "\n",
    "\n",
    "#### I.6.1. Mise à jours des gradients\n",
    "\n",
    "Dans cette fonction, on va implémenter la désente des gradients normale (celle dans le TP précédent ... Hint: copy-coller)\n",
    "\n",
    "$$\\theta = \\theta - \\alpha \\frac{\\partial J(\\theta)}{\\theta_j}$$\n",
    "\n",
    "aussi, la déscente des gradients adaptative (AdaGrad)\n",
    "\n",
    "$$V = V + (\\frac{\\partial J(\\theta)}{\\partial \\theta})^2$$\n",
    "\n",
    "$$\\theta = \\theta - \\frac{\\alpha}{\\sqrt{V +\\epsilon}} \\frac{\\partial J(\\theta)}{\\theta}$$\n",
    "\n",
    "- $\\theta[N, L]$ : les paramètres de $L$ classes et $N$ caractéristiques\n",
    "- $\\frac{\\partial J(\\theta)}{\\partial \\theta}[N, L]$ les gradients de ces paramètres\n",
    "- $V[N, L]$ : hyper-paramètre pour l'adjustement du taux d'apprentissage pour chaque paramètre\n",
    "- $\\epsilon=e^{-8}$\n",
    "\n",
    "\n",
    "Quelques conditions sur la fonction :\n",
    "- La fonction doit retourner les paramètres mises-à-jours et le nouveau vecteur $V$\n",
    "- Si la valeur booléenne $adagrad=True$, on doit appliquer adagrad (calculer le nouveau V et mettre à jours $\\theta$ selon AdaGrad)\n",
    "- Si cette valeur égale à $False$, on utilise la mise à jour normale\n",
    "\n"
   ]
  },
  {
   "cell_type": "code",
   "execution_count": 7,
   "metadata": {},
   "outputs": [
    {
     "data": {
      "text/plain": [
       "((array([[0.50065431, 0.10119618, 0.5981495 ],\n",
       "         [0.20070003, 0.29835502, 0.00094495]]), array([[0.2 , 0.1 , 0.5 ],\n",
       "         [0.05, 0.15, 0.2 ]])), (array([[0.50144768, 0.103538  , 0.59746826],\n",
       "         [0.20298765, 0.29609069, 0.00206732]]),\n",
       "  array([[0.20428126, 0.11430852, 0.53424333],\n",
       "         [0.05490046, 0.17705953, 0.20892922]])))"
      ]
     },
     "execution_count": 7,
     "metadata": {},
     "output_type": "execute_result"
    }
   ],
   "source": [
    "# TODO: Définir la fonction de la mise à jours des paramètres avec AdaGrad\n",
    "def majThetaAdaGrad(Theta, Gradient, alpha, V, adagrad=False, eps=1e-08): \n",
    "\n",
    "    if(adagrad==False):\n",
    "        return Theta-alpha*Gradient,V\n",
    "    else:\n",
    "        V_new = V.copy()+np.square(Gradient)\n",
    "        Theta_new = Theta.copy()-(alpha*Gradient)/(V_new+eps)**0.5\n",
    "        return Theta_new, V_new\n",
    "\n",
    "#=====================================================================\n",
    "# TEST UNITAIRE\n",
    "#=====================================================================\n",
    "# Resultat : \n",
    "# ((array([[0.50065431, 0.10119618, 0.5981495 ],\n",
    "#          [0.20070003, 0.29835502, 0.00094495]]),\n",
    "#   array([[0.2 , 0.1 , 0.5 ],\n",
    "#          [0.05, 0.15, 0.2 ]])),\n",
    "#  (array([[0.50144768, 0.103538  , 0.59746826],\n",
    "#          [0.20298765, 0.29609069, 0.00206732]]),\n",
    "#   array([[0.20428126, 0.11430852, 0.53424333],\n",
    "#          [0.05490046, 0.17705953, 0.20892922]])))\n",
    "#---------------------------------------------------------------------\n",
    "Theta_tn = np.array([[0.5, 0.1, 0.6],\n",
    "                     [0.2, 0.3, 0.0]]) # 2 caractéristiques, 3 classes\n",
    "Gradient_tn = np.array([[-0.06543131, -0.11961822,  0.18504953], \n",
    "                       [-0.07000327,  0.16449781, -0.09449454]])# 2 caractéristiques, 3 classes\n",
    "V_tn = np.array([[0.2, 0.1, 0.5],\n",
    "                [0.05, 0.15, 0.2]]) # 2 caractéristiques, 3 classes\n",
    "alpha_tn = 0.01\n",
    "majThetaAdaGrad(Theta_tn, Gradient_tn, alpha_tn, V_tn), majThetaAdaGrad(Theta_tn, Gradient_tn, alpha_tn, V_tn, adagrad=True)"
   ]
  },
  {
   "cell_type": "markdown",
   "metadata": {},
   "source": [
    "#### I.6.2. La descente des gradients\n",
    "\n"
   ]
  },
  {
   "cell_type": "code",
   "execution_count": 8,
   "metadata": {},
   "outputs": [
    {
     "data": {
      "text/plain": [
       "(array([[ 0.84298097,  1.57919742, -1.22217839],\n",
       "        [ 0.60036187, -1.45101777,  1.3506559 ]]), 0.5977646913907274)"
      ]
     },
     "execution_count": 8,
     "metadata": {},
     "output_type": "execute_result"
    }
   ],
   "source": [
    "def des_grad_adagrad(X, Y, Theta, max_iter=200, alpha=0.1, adagrad=False):\n",
    "    \n",
    "    couts = []\n",
    "    \n",
    "    V = np.zeros(Theta.shape) # Générer des zéros\n",
    "    Theta1 = Theta.copy() # pour ne pas modifier Theta original\n",
    "    \n",
    "    for i in range(max_iter): # Ici, la seule condition d'arrêt est le nombre des itérations\n",
    "        H = softmax(zfn(X, Theta1))\n",
    "        couts.append(jn(H, Y))\n",
    "        Theta1, V = majThetaAdaGrad(Theta1, dJn(X, H, Y), alpha, V, adagrad=adagrad)\n",
    "    \n",
    "    return Theta1, couts\n",
    "\n",
    "#=====================================================================\n",
    "# TEST UNITAIRE\n",
    "#=====================================================================\n",
    "# Resultat : \n",
    "# (array([[ 0.84298097,  1.57919742, -1.22217839],\n",
    "#         [ 0.60036187, -1.45101777,  1.3506559 ]]),\n",
    "#  0.5977646913907274)\n",
    "#---------------------------------------------------------------------\n",
    "X_tn = np.array([[0., 0.], [1., 0.], [0., 1.], [1., 1.]]) # deux variables logiques\n",
    "Y_tn = np.array([[1,0,0], [0,1,0], [0,0,1], [1,0,0]]) # égale, sup, inf, égale\n",
    "Theta_tn = np.array([[0.5, 0.1, 0.6],\n",
    "                     [0.2, 0.3, 0.0]]) # 2 caractéristiques, 3 classes\n",
    "\n",
    "theta_n, couts_n = des_grad_adagrad(X_tn, Y_tn, Theta_tn)\n",
    "\n",
    "theta_n, couts_n[-1]"
   ]
  },
  {
   "cell_type": "markdown",
   "metadata": {},
   "source": [
    "### I.7. Regrouper les fonctions ensemble \n",
    "\n",
    "Pour bien gérer l'entrainnement et la prédiction, on rassemble les fonctions que vous avez implémenté dans une seul classe. L'intérêt : \n",
    "- Si on applique la normalisation durant l'entrainnement, on doit l'appliquer aussi durant la prédiction. En plus, on doit utiliser les mêmes paramètres (moyenne et écart-type)\n",
    "- On utilise les thétas optimales lors de la prédicition\n"
   ]
  },
  {
   "cell_type": "code",
   "execution_count": 9,
   "metadata": {},
   "outputs": [
    {
     "data": {
      "text/plain": [
       "array([[1., 0., 0.],\n",
       "       [0., 1., 0.],\n",
       "       [0., 1., 0.],\n",
       "       [0., 0., 1.]])"
      ]
     },
     "execution_count": 9,
     "metadata": {},
     "output_type": "execute_result"
    }
   ],
   "source": [
    "class MaxEnt(object):\n",
    "    \n",
    "    def __init__(self, norm=True, const=True): \n",
    "        self.norm = norm\n",
    "        self.const = const\n",
    "    \n",
    "    def entrainer(self, X, Y, max_iter=100, alpha=.01, adagrad=False): \n",
    "        X_pre, self.mean, self.std = outils.preparer(X, norm=self.norm, const=self.const)\n",
    "        Theta = np.zeros((X_pre.shape[1], Y.shape[1])) # Theta[N, L]\n",
    "        self.Theta, self.couts = des_grad_adagrad(X_pre, Y, Theta, max_iter=max_iter, alpha=alpha, adagrad=adagrad)\n",
    "        \n",
    "        \n",
    "    # La prédiction\n",
    "    # si prob=True elle rend un vecteur de probabilités\n",
    "    # sinon elle rend une vecteur de 1 et 0\n",
    "    def predire(self, X, prob=True):\n",
    "        X_pre, self.mean, self.std = outils.preparer(X, norm=self.norm, const=self.const, mean=self.mean, std=self.std)\n",
    "        H = softmax(zfn(X_pre, self.Theta))\n",
    "        if prob:\n",
    "            return H\n",
    "        return cn(H)\n",
    "\n",
    "\n",
    "#=====================================================================\n",
    "# TEST UNITAIRE\n",
    "#=====================================================================\n",
    "# Resultat : \n",
    "# array([[1, 0, 0],\n",
    "#        [0, 1, 0],\n",
    "#        [0, 1, 0],\n",
    "#        [0, 0, 1]])\n",
    "#---------------------------------------------------------------------\n",
    "X_tn = np.array([[0., 0.], [1., 0.], [0., 1.], [1., 1.]]) # deux variables logiques\n",
    "Y_tn = np.array([[1,0,0], [0,1,0], [0,0,1], [1,0,0]]) # égale, sup, inf, égale\n",
    "\n",
    "X_testn = np.array([[2., 2.], [1., 0.], [1., -1.], [2., 5.]])\n",
    "\n",
    "maxent = MaxEnt()\n",
    "maxent.entrainer(X_tn, Y_tn)\n",
    "maxent.predire(X_testn, prob=False)"
   ]
  },
  {
   "cell_type": "markdown",
   "metadata": {},
   "source": [
    "## II Application et analyse\n",
    "\n",
    "On va utiliser [Iris dataset](https://archive.ics.uci.edu/ml/datasets/iris) pour classer des fleurs en trois classes, en utilisant 4 caractéristiques. Pour simplification, on va utiliser seulement 2 caractéristiques: Petal Length (cm); Petal Width (cm). D'après [Ce tutoriel](https://teddykoker.com/2019/06/multi-class-classification-with-logistic-regression-in-python/) ces 2 caractéristiques sont suffisantes.\n",
    "\n",
    "**Dans cette partie, vous n'avez rien à programmer. Mais, il faut analyser les résultats à la fin**\n",
    "\n",
    "Deux solutions à analyser : \n",
    "- Entrainer 3 modèles de régression logistique binaire\n",
    "- Entrainer 1 modèle de régression logistique multinomial "
   ]
  },
  {
   "cell_type": "code",
   "execution_count": 10,
   "metadata": {},
   "outputs": [
    {
     "data": {
      "text/html": [
       "<div>\n",
       "<style scoped>\n",
       "    .dataframe tbody tr th:only-of-type {\n",
       "        vertical-align: middle;\n",
       "    }\n",
       "\n",
       "    .dataframe tbody tr th {\n",
       "        vertical-align: top;\n",
       "    }\n",
       "\n",
       "    .dataframe thead th {\n",
       "        text-align: right;\n",
       "    }\n",
       "</style>\n",
       "<table border=\"1\" class=\"dataframe\">\n",
       "  <thead>\n",
       "    <tr style=\"text-align: right;\">\n",
       "      <th></th>\n",
       "      <th>sepal_length</th>\n",
       "      <th>sepal_width</th>\n",
       "      <th>petal_length</th>\n",
       "      <th>petal_width</th>\n",
       "      <th>class</th>\n",
       "    </tr>\n",
       "  </thead>\n",
       "  <tbody>\n",
       "    <tr>\n",
       "      <th>0</th>\n",
       "      <td>5.1</td>\n",
       "      <td>3.5</td>\n",
       "      <td>1.4</td>\n",
       "      <td>0.2</td>\n",
       "      <td>Iris-setosa</td>\n",
       "    </tr>\n",
       "    <tr>\n",
       "      <th>1</th>\n",
       "      <td>4.9</td>\n",
       "      <td>3.0</td>\n",
       "      <td>1.4</td>\n",
       "      <td>0.2</td>\n",
       "      <td>Iris-setosa</td>\n",
       "    </tr>\n",
       "    <tr>\n",
       "      <th>2</th>\n",
       "      <td>4.7</td>\n",
       "      <td>3.2</td>\n",
       "      <td>1.3</td>\n",
       "      <td>0.2</td>\n",
       "      <td>Iris-setosa</td>\n",
       "    </tr>\n",
       "    <tr>\n",
       "      <th>3</th>\n",
       "      <td>4.6</td>\n",
       "      <td>3.1</td>\n",
       "      <td>1.5</td>\n",
       "      <td>0.2</td>\n",
       "      <td>Iris-setosa</td>\n",
       "    </tr>\n",
       "    <tr>\n",
       "      <th>4</th>\n",
       "      <td>5.0</td>\n",
       "      <td>3.6</td>\n",
       "      <td>1.4</td>\n",
       "      <td>0.2</td>\n",
       "      <td>Iris-setosa</td>\n",
       "    </tr>\n",
       "  </tbody>\n",
       "</table>\n",
       "</div>"
      ],
      "text/plain": [
       "   sepal_length  sepal_width  petal_length  petal_width        class\n",
       "0           5.1          3.5           1.4          0.2  Iris-setosa\n",
       "1           4.9          3.0           1.4          0.2  Iris-setosa\n",
       "2           4.7          3.2           1.3          0.2  Iris-setosa\n",
       "3           4.6          3.1           1.5          0.2  Iris-setosa\n",
       "4           5.0          3.6           1.4          0.2  Iris-setosa"
      ]
     },
     "execution_count": 10,
     "metadata": {},
     "output_type": "execute_result"
    }
   ],
   "source": [
    "iris = pd.read_csv(\"datasets/iris.csv\")\n",
    "iris.head()"
   ]
  },
  {
   "cell_type": "code",
   "execution_count": 11,
   "metadata": {},
   "outputs": [
    {
     "data": {
      "text/html": [
       "<div>\n",
       "<style scoped>\n",
       "    .dataframe tbody tr th:only-of-type {\n",
       "        vertical-align: middle;\n",
       "    }\n",
       "\n",
       "    .dataframe tbody tr th {\n",
       "        vertical-align: top;\n",
       "    }\n",
       "\n",
       "    .dataframe thead th {\n",
       "        text-align: right;\n",
       "    }\n",
       "</style>\n",
       "<table border=\"1\" class=\"dataframe\">\n",
       "  <thead>\n",
       "    <tr style=\"text-align: right;\">\n",
       "      <th></th>\n",
       "      <th>petal_length</th>\n",
       "      <th>petal_width</th>\n",
       "      <th>class</th>\n",
       "    </tr>\n",
       "  </thead>\n",
       "  <tbody>\n",
       "    <tr>\n",
       "      <th>0</th>\n",
       "      <td>1.4</td>\n",
       "      <td>0.2</td>\n",
       "      <td>Iris-setosa</td>\n",
       "    </tr>\n",
       "    <tr>\n",
       "      <th>1</th>\n",
       "      <td>1.4</td>\n",
       "      <td>0.2</td>\n",
       "      <td>Iris-setosa</td>\n",
       "    </tr>\n",
       "    <tr>\n",
       "      <th>2</th>\n",
       "      <td>1.3</td>\n",
       "      <td>0.2</td>\n",
       "      <td>Iris-setosa</td>\n",
       "    </tr>\n",
       "    <tr>\n",
       "      <th>3</th>\n",
       "      <td>1.5</td>\n",
       "      <td>0.2</td>\n",
       "      <td>Iris-setosa</td>\n",
       "    </tr>\n",
       "    <tr>\n",
       "      <th>4</th>\n",
       "      <td>1.4</td>\n",
       "      <td>0.2</td>\n",
       "      <td>Iris-setosa</td>\n",
       "    </tr>\n",
       "  </tbody>\n",
       "</table>\n",
       "</div>"
      ],
      "text/plain": [
       "   petal_length  petal_width        class\n",
       "0           1.4          0.2  Iris-setosa\n",
       "1           1.4          0.2  Iris-setosa\n",
       "2           1.3          0.2  Iris-setosa\n",
       "3           1.5          0.2  Iris-setosa\n",
       "4           1.4          0.2  Iris-setosa"
      ]
     },
     "execution_count": 11,
     "metadata": {},
     "output_type": "execute_result"
    }
   ],
   "source": [
    "if iris.shape[1] > 3:\n",
    "    iris.drop([\"sepal_length\", \"sepal_width\"], axis = 1, inplace=True)\n",
    "iris.head()"
   ]
  },
  {
   "cell_type": "markdown",
   "metadata": {},
   "source": [
    "### II.1. Séparabilité des classes\n",
    "\n",
    "**TODO : Analyser les résultats**\n",
    "- Que remarquez-vous concernant la séparabilité des 3 classes?\n",
    "- Donner une hypothèse concernant la performance des modèles sur ce dataset (Rappel, Précision)\n",
    "- Justifier cette hypothèse (Rappel, Précision) en comparant les 3 classes\n",
    "\n",
    "**Réponse**\n",
    "- ...\n",
    "- ...\n",
    "- ..."
   ]
  },
  {
   "cell_type": "code",
   "execution_count": 12,
   "metadata": {},
   "outputs": [
    {
     "data": {
      "image/png": "[encoded data removed]",
      "text/plain": [
       "<Figure size 432x288 with 1 Axes>"
      ]
     },
     "metadata": {
      "needs_background": "light"
     },
     "output_type": "display_data"
    }
   ],
   "source": [
    "Xiris = iris.iloc[:, :-1].values # Premières colonnes \n",
    "\n",
    "Yiris = iris.iloc[:,-1].values # Dernière colonne \n",
    "\n",
    "setosa = iris[\"class\"] == \"Iris-setosa\"\n",
    "versicolor = iris[\"class\"] == \"Iris-versicolor\"\n",
    "virginica = iris[\"class\"] == \"Iris-virginica\"\n",
    "\n",
    "plt.scatter(Xiris[setosa, 0], Xiris[setosa, 1], color=\"red\", label=\"Iris-setosa\")\n",
    "plt.scatter(Xiris[versicolor, 0], Xiris[versicolor, 1], color=\"blue\", label=\"Iris-versicolor\")\n",
    "plt.scatter(Xiris[virginica, 0], Xiris[virginica, 1], color=\"green\", label=\"Iris-virginica\")\n",
    "\n",
    "plt.xlabel(\"sepal_length\")\n",
    "plt.ylabel(\"sepal_width\")\n",
    "plt.legend()\n",
    "plt.show()"
   ]
  },
  {
   "cell_type": "code",
   "execution_count": 13,
   "metadata": {},
   "outputs": [],
   "source": [
    "#Remarques:\n",
    "#on a une  separation parfaite (linéairement separées) entre les points rouges(Iris-setosa) et bleu (Iris-versicolor) ainsi entre les points rouges \n",
    "#(Iris-setosa) et vert (Iris-virginica) dans ces deux cas on a une precision=1.0 et rappel=1.0 aussi entre\n",
    "#la majorité des points des bleu et vert\n",
    "#par contre on trouve quelque points bleu qui sont proche des points vert dans ce cas la precision va etre <1.0 et rappel=1.0\n",
    "#hypothèse:\n",
    "#si on augment le rappel seulement notre modèle ne sert pas à grand chose (pas une tres bonne separation entre les classes de données)\n",
    "#par contre si on ameliore aussi la precision  alors on diminue le risque de se tromper \n",
    "#justification d'hypothèses:\n",
    "#les classes sont linéairement separées parceque le modèle de regression multinomiale va etre capable de les separés.\n",
    "#la meme chose pour les modèles  de regression binaires,\n",
    "#car les points rouge(Iris-setosa) est tres eloiné des deux autres classes (donc elle a une precision et recall idea qui\n",
    "# egale à 1.0), par contre les deux autre classes sont proches dans quelque points dans ce cas on a une precision <1.0 de meme \n",
    "#pour recall\n"
   ]
  },
  {
   "cell_type": "code",
   "execution_count": 14,
   "metadata": {},
   "outputs": [
    {
     "data": {
      "text/plain": [
       "(120, 30)"
      ]
     },
     "execution_count": 14,
     "metadata": {},
     "output_type": "execute_result"
    }
   ],
   "source": [
    "from sklearn.model_selection import train_test_split  \n",
    "\n",
    "Xiris_train, Xiris_test, Yiris_train, Yiris_test = train_test_split(Xiris, Yiris, test_size=0.2, random_state=0)  \n",
    "\n",
    "len(Xiris_train), len(Xiris_test)"
   ]
  },
  {
   "cell_type": "markdown",
   "metadata": {},
   "source": [
    "### II.2. AdaGrad\n",
    "\n",
    "Nous avons entraîné deux modèles : \n",
    "- **DG** : modèle avec la déscente du gradient normale\n",
    "- **AdaGrad** : modèle avec AdaGrad"
   ]
  },
  {
   "cell_type": "code",
   "execution_count": 15,
   "metadata": {},
   "outputs": [
    {
     "data": {
      "text/plain": [
       "array([[0., 0., 1.],\n",
       "       [0., 1., 0.],\n",
       "       [1., 0., 0.],\n",
       "       [0., 0., 1.]])"
      ]
     },
     "execution_count": 15,
     "metadata": {},
     "output_type": "execute_result"
    }
   ],
   "source": [
    "from sklearn.preprocessing import OneHotEncoder\n",
    "enc_iris = OneHotEncoder()\n",
    "Yiris_train_enc = enc_iris.fit_transform(np.array(Yiris_train).reshape(-1,1))\n",
    "\n",
    "Yiris_train_enc.toarray()[:4, :]"
   ]
  },
  {
   "cell_type": "markdown",
   "metadata": {},
   "source": [
    "#### II.2.1. Convergence\n",
    "\n",
    "Ici, on veut tester la convergence : rapidité et convergence finale (moins d'erreur = meilleur)\n",
    "\n",
    "**TODO : Analyser les résultats**\n",
    "- Que remarquez-vous ?\n",
    "- Donner une hypothèse\n",
    "- Essayer de justifier cette hypothèse en se basant sur la formule de AdaGrad\n",
    "- Peut-on utiliser AdaGrad lorsque nous avons beaucoup de minimums locaux ? Pourquoi ?\n",
    "\n",
    "**Réponse**\n",
    "- ...\n",
    "- ...\n",
    "- ...\n",
    "- ..."
   ]
  },
  {
   "cell_type": "code",
   "execution_count": 16,
   "metadata": {},
   "outputs": [
    {
     "data": {
      "image/png": "[encoded data removed]",
      "text/plain": [
       "<Figure size 432x288 with 1 Axes>"
      ]
     },
     "metadata": {
      "needs_background": "light"
     },
     "output_type": "display_data"
    }
   ],
   "source": [
    "MAX_ITER = 500\n",
    "mxent_dg = MaxEnt()\n",
    "mxent_dg.entrainer(Xiris_train, Yiris_train_enc.toarray(), max_iter=MAX_ITER)\n",
    "mxent_adagrad = MaxEnt()\n",
    "mxent_adagrad.entrainer(Xiris_train, Yiris_train_enc.toarray(), adagrad=True, max_iter=MAX_ITER)\n",
    "\n",
    "\n",
    "\n",
    "plt.plot(mxent_dg.couts, label = \"DG\")\n",
    "plt.plot(mxent_adagrad.couts, label = \"AdaGrad\")\n",
    "plt.legend()\n",
    "#plt.autoscale()\n",
    "plt.show()\n",
    "\n"
   ]
  },
  {
   "cell_type": "code",
   "execution_count": 17,
   "metadata": {},
   "outputs": [],
   "source": [
    "#Remarque:\n",
    "#on remarque avec descent gradient(DG) on a une meiulleur convergence (plus rapide ) qu'avec  AdaGrad \n",
    "#hypothèse:\n",
    "#l'utilisation de la methode Descent Gradient accelère la convergence de modèle ,contrairement à la methode AdaGrad \n",
    "#justification:\n",
    "#d'apres la formule de AdaGrad ,dans chaque iteration on sauvegarde les gradients cumulé dans V \n",
    "#donc la valeur de V augment dans chaque etape  ce qui implique une valeur menimale de thta dans chaque iteration\n",
    "#cela réduit le taux d'apprentissage et finit par devenir petit.\n",
    "#reponse:\n",
    "#oui Adagrad permet d'eviter les optimomes locaux ,justification: Adagrad deja fait pour regle ce \n",
    "#probleme par ce que c'etait le problème de DG ,car DANS Adagrad on a un taux d'apprentissage pour chaque iteration(theta)\n",
    "#Adagrad permet d'augmente le taux d'apprentissage de manière separé ceci permet le deplacement de chaque dimension de manière\n",
    "#propotionnel donc Adagrad va eviter les optimaux locaux ."
   ]
  },
  {
   "cell_type": "markdown",
   "metadata": {},
   "source": [
    "#### II.2.1. Performance (AdaGrad)\n",
    "\n",
    "Ici, on veut tester la performance sur le dataset de test.\n",
    "\n",
    "**TODO : Analyser les résultats**\n",
    "- Que remarquez-vous (Précision vs Recall (setosa); GD vs AdaGrad (micro-avg)) ?\n",
    "- Donner une hypothèse sur la convergence AdaGrad (peut-t-on converger) et comment l'améliorer\n",
    "- Essayer de justifier cette hypothèse (GD vs AdaGrad)\n",
    "\n",
    "**Réponse**\n",
    "- ...\n",
    "- ...\n",
    "- ..."
   ]
  },
  {
   "cell_type": "code",
   "execution_count": 18,
   "metadata": {},
   "outputs": [
    {
     "name": "stdout",
     "output_type": "stream",
     "text": [
      "Descente du gradient\n",
      "                 precision    recall  f1-score   support\n",
      "\n",
      "    Iris-setosa       0.92      1.00      0.96        11\n",
      "Iris-versicolor       1.00      0.23      0.38        13\n",
      " Iris-virginica       0.40      1.00      0.57         6\n",
      "\n",
      "       accuracy                           0.67        30\n",
      "      macro avg       0.77      0.74      0.63        30\n",
      "   weighted avg       0.85      0.67      0.63        30\n",
      "\n",
      "AdaGrad\n",
      "                 precision    recall  f1-score   support\n",
      "\n",
      "    Iris-setosa       0.92      1.00      0.96        11\n",
      "Iris-versicolor       1.00      0.08      0.14        13\n",
      " Iris-virginica       0.35      1.00      0.52         6\n",
      "\n",
      "       accuracy                           0.60        30\n",
      "      macro avg       0.76      0.69      0.54        30\n",
      "   weighted avg       0.84      0.60      0.52        30\n",
      "\n"
     ]
    }
   ],
   "source": [
    "from sklearn.metrics import classification_report\n",
    "\n",
    "print(\"Descente du gradient\")\n",
    "print(classification_report(Yiris_test, enc_iris.inverse_transform(mxent_dg.predire(Xiris_test)), target_names=enc_iris.categories_[0]))\n",
    "\n",
    "print(\"AdaGrad\")\n",
    "print(classification_report(Yiris_test, enc_iris.inverse_transform(mxent_adagrad.predire(Xiris_test)), target_names=enc_iris.categories_[0]))"
   ]
  },
  {
   "cell_type": "code",
   "execution_count": null,
   "metadata": {},
   "outputs": [],
   "source": [
    "#REMARQUES:\n",
    "#on remarque que la precision de Iris-setosa avec les deux methodes (DG et Adagrad ) est inferieur que rappel(recall),\n",
    "#aussi macro-avg de DG est meilleur que Adagrad\n",
    "#avec la methode Adagrad toujours on aura une convergence ,mais elle ne converge pas vers le minimum optimal (parceque en \n",
    "#Adagrad on a des gradients carrés accumulées dans le dénominateur).\n",
    "#pour l'amelioré : on définissons recursivement une moyenne décroissante de tous les gradients carées passées,donc la moyenne\n",
    "#mobile à chaque pâs de temps dépend uniquement de la moyenne précédente et du gradient actuel.\n",
    "#Justification d'hypothèse:\n",
    "#Adagrad est plus rapide  que DG en terme de temps parce qu'elle ce stabilise rapidement à cause de la mise à jour de vecteur V\n",
    "#dans chaque iteration mais la convergence finale n'est pas la plus petite contrairement au methode de DG ou on aura une \n",
    "#convergence meilleur."
   ]
  },
  {
   "cell_type": "markdown",
   "metadata": {},
   "source": [
    "### II.3. One-vs-Rest OU One-vs-One\n",
    "\n",
    "Nous avons entrainé deux modèles : \n",
    "- **One-vs-Rest** : ici, trois sous-modèles binaires sont entraînés ; un pour chaque class. Chaque sous modèle détecte si l'échantillon appartient à sa classe ou non. Lors de la prédiction, on prend la classe avec le max de probabilité\n",
    "- **One-vs-One** : ici, un modèle de régression logistique multinomiale (maximum entropy) est entraîné pour séparer les trois classes\n",
    "\n",
    "**TODO : Analyser les résultats**\n",
    "On remarque que la performance de One-vs-One est meilleure que celle de One-vs-Rest\n",
    "- Pourquoi ? (en se basant sur la limite de décision et les paramètres)\n",
    "- Quel mécanisme de ces deux est affecté beaucoup plus par les valeurs aberrantes (les échantillons d'une classe qui peuvent se retrouver aux milieu d'une autre classe)\n",
    "\n",
    "**Réponse**\n",
    "- ...\n",
    "- ..."
   ]
  },
  {
   "cell_type": "code",
   "execution_count": 19,
   "metadata": {},
   "outputs": [
    {
     "name": "stdout",
     "output_type": "stream",
     "text": [
      "One-vs-Rest\n",
      "                 precision    recall  f1-score   support\n",
      "\n",
      "    Iris-setosa       1.00      1.00      1.00        11\n",
      "Iris-versicolor       0.93      1.00      0.96        13\n",
      " Iris-virginica       1.00      0.83      0.91         6\n",
      "\n",
      "       accuracy                           0.97        30\n",
      "      macro avg       0.98      0.94      0.96        30\n",
      "   weighted avg       0.97      0.97      0.97        30\n",
      "\n",
      "One-vs-One\n",
      "                 precision    recall  f1-score   support\n",
      "\n",
      "    Iris-setosa       1.00      1.00      1.00        11\n",
      "Iris-versicolor       1.00      1.00      1.00        13\n",
      " Iris-virginica       1.00      1.00      1.00         6\n",
      "\n",
      "       accuracy                           1.00        30\n",
      "      macro avg       1.00      1.00      1.00        30\n",
      "   weighted avg       1.00      1.00      1.00        30\n",
      "\n"
     ]
    }
   ],
   "source": [
    "from sklearn.linear_model import LogisticRegression\n",
    "\n",
    "one2rest = LogisticRegression(solver=\"lbfgs\", penalty=\"none\", multi_class=\"ovr\")\n",
    "one2rest.fit(Xiris_train, Yiris_train)\n",
    "\n",
    "one2one = LogisticRegression(solver=\"lbfgs\", penalty=\"none\", multi_class=\"multinomial\")\n",
    "one2one.fit(Xiris_train, Yiris_train)\n",
    "\n",
    "print(\"One-vs-Rest\")\n",
    "print(classification_report(Yiris_test, one2rest.predict(Xiris_test)))\n",
    "\n",
    "print(\"One-vs-One\")\n",
    "print(classification_report(Yiris_test, one2one.predict(Xiris_test)))"
   ]
  },
  {
   "cell_type": "code",
   "execution_count": null,
   "metadata": {},
   "outputs": [],
   "source": [
    "#Réponses :\n",
    "#Pourquoi ?\n",
    "#le modèle One-vs-One mielleur que One-vs-Rest parcequ'il est basé sur la reduction des paramètres generiques \n",
    "# et la combinaison de certains d'etre eux ,car One-vs-One divise un ensemble de données de classification multi-classes \n",
    "#en problèmes de classification binaire . Contrairement à One-vs-Rest qui le divise en un ensemble de données binaire\n",
    "#pour chaque classe, l'approche One-vs-One divise l'ensemble de données en un ensemble de données pour chaque\n",
    "#classe par rapport à toutes les autres classes.\n",
    "#On trouve généralement le problème de déséquilibre des classes dans l'approche One-vs-Rest car on prend deux classes\n",
    "#et une classe a part, par contre dans l'approche On-vs-One on trouve pas ce problème.\n",
    "#De  plus dans One-vs-Rest, est basée sur la création de plusieurs classes qui engendre par conséquent un processus\n",
    "#tres lent à exécuter, par contre dans One-vs-One est basé sur la séparation des trois classes (il est divisé sur deux)\n",
    "#Donc plus de performance\n",
    "#Le mécanisme a affecter pour les valeurs aberrantes est : One-vs-Rest\n",
    "#Car cette approche est basée sur la création de plusieurs classes et les sous modèles binaires sont entraînés un pour\n",
    "#chaque classe avec le max de probabilité. "
   ]
  },
  {
   "cell_type": "code",
   "execution_count": 124,
   "metadata": {},
   "outputs": [
    {
     "name": "stdout",
     "output_type": "stream",
     "text": [
      "Bonne chance\n"
     ]
    }
   ],
   "source": [
    "print(\"Bonne chance\")"
   ]
  }
 ],
 "metadata": {
  "kernelspec": {
   "display_name": "Python 3",
   "language": "python",
   "name": "python3"
  },
  "language_info": {
   "codemirror_mode": {
    "name": "ipython",
    "version": 3
   },
   "file_extension": ".py",
   "mimetype": "text/x-python",
   "name": "python",
   "nbconvert_exporter": "python",
   "pygments_lexer": "ipython3",
   "version": "3.7.3"
  }
 },
 "nbformat": 4,
 "nbformat_minor": 2
}
